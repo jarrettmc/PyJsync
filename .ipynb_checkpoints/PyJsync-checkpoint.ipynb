{
 "cells": [
  {
   "cell_type": "code",
   "execution_count": 285,
   "id": "314e5588",
   "metadata": {},
   "outputs": [],
   "source": [
    "#PyJsync Utility to copy/sync files between directories\n",
    "#written by Jarrett McAlicher\n",
    "\n",
    "# V1.0 Basic functionality\n",
    "\n",
    "ver='1.0a'\n"
   ]
  },
  {
   "cell_type": "code",
   "execution_count": 286,
   "id": "203c9c4d",
   "metadata": {},
   "outputs": [],
   "source": [
    "import shutil\n",
    "import os\n",
    "import fnmatch"
   ]
  },
  {
   "cell_type": "code",
   "execution_count": 287,
   "id": "1d36d9b4",
   "metadata": {},
   "outputs": [],
   "source": [
    "verbose = True\n",
    "cverbose = True\n",
    "\n",
    "#test for now\n",
    "sDirectory=\"/home/jarrettmc/Documents/test/Source\"\n",
    "dDirectory=\"/home/jarrettmc/Documents/test/Destination\""
   ]
  },
  {
   "cell_type": "code",
   "execution_count": 288,
   "id": "a2873582",
   "metadata": {},
   "outputs": [],
   "source": [
    "#objects\n",
    "class directoryfiles:\n",
    "    def __init__(self,directory):\n",
    "        self.data={}\n",
    "        for path, subdirs, files in os.walk(directory):\n",
    "            self.data[path]={\"subfol\":subdirs,\"files\":files}\n",
    "    \n",
    "    def text(self):\n",
    "        print(self.data)\n"
   ]
  },
  {
   "cell_type": "code",
   "execution_count": 289,
   "id": "88049361",
   "metadata": {},
   "outputs": [],
   "source": [
    "def help():\n",
    "    # This will print the help file to the console\n",
    "    print('''--- Help ---\\n--\n",
    "          \n",
    "          \n",
    "          \n",
    "          \n",
    "          ''')"
   ]
  },
  {
   "cell_type": "code",
   "execution_count": 290,
   "id": "dd1d6647",
   "metadata": {},
   "outputs": [
    {
     "name": "stdout",
     "output_type": "stream",
     "text": [
      "PyJsync 1.0a by Jarrett McAlicher\n"
     ]
    }
   ],
   "source": [
    "if __name__=='__main__':\n",
    "    print(f'PyJsync {ver} by Jarrett McAlicher')"
   ]
  },
  {
   "cell_type": "code",
   "execution_count": 291,
   "id": "6ff69282",
   "metadata": {},
   "outputs": [],
   "source": [
    "    sfiles=directoryfiles(sDirectory)"
   ]
  },
  {
   "cell_type": "code",
   "execution_count": 292,
   "id": "543152a5",
   "metadata": {},
   "outputs": [],
   "source": [
    "    #directoryfiles(dDirectory)"
   ]
  },
  {
   "cell_type": "code",
   "execution_count": 293,
   "id": "8855f612",
   "metadata": {},
   "outputs": [
    {
     "data": {
      "text/plain": [
       "<bound method directoryfiles.text of <__main__.directoryfiles object at 0x7f8310975f10>>"
      ]
     },
     "execution_count": 293,
     "metadata": {},
     "output_type": "execute_result"
    }
   ],
   "source": [
    "    sfiles.text"
   ]
  },
  {
   "cell_type": "code",
   "execution_count": null,
   "id": "d18368e4",
   "metadata": {},
   "outputs": [],
   "source": []
  },
  {
   "cell_type": "code",
   "execution_count": null,
   "id": "4b87e5a0",
   "metadata": {},
   "outputs": [],
   "source": []
  }
 ],
 "metadata": {
  "kernelspec": {
   "display_name": "Python 3 (ipykernel)",
   "language": "python",
   "name": "python3"
  },
  "language_info": {
   "codemirror_mode": {
    "name": "ipython",
    "version": 3
   },
   "file_extension": ".py",
   "mimetype": "text/x-python",
   "name": "python",
   "nbconvert_exporter": "python",
   "pygments_lexer": "ipython3",
   "version": "3.11.6"
  }
 },
 "nbformat": 4,
 "nbformat_minor": 5
}
